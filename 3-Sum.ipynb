{
 "cells": [
  {
   "cell_type": "code",
   "execution_count": 7,
   "metadata": {},
   "outputs": [],
   "source": [
    "#Given an array sums of n integers, are there elements a,b,c in nums such that a+b+c = 0?\n",
    "#Find all unique triplets in the array which gives the sum of zero\n",
    "\n",
    "class Solution:\n",
    "    def threeSum(self, nums: list[int]) -> list[list[int]]:\n",
    "        res = []\n",
    "        nums.sort        \n",
    "        length = len(nums)\n",
    "        \n",
    "        for i in range(length - 2):\n",
    "            if i > 0 and nums[i] == nums[i -1]:\n",
    "              continue\n",
    "            l = i + 1\n",
    "            r = length - l\n",
    "            \n",
    "            while l < r:\n",
    "                total = nums[i] + nums[r] + nums[l]\n",
    "                if total < 0:\n",
    "                    #-2, -2, 0, 1\n",
    "                    l = l + 1\n",
    "                elif total > 0:\n",
    "                    r = r-1\n",
    "                else:\n",
    "                    res.append([nums[i], nums[l], nums[r]])\n",
    "                    while l < r and nums[l] == nums[l+1]:\n",
    "                        l = l+1\n",
    "                    while l < r and nums[r] == nums[r -1]:\n",
    "                        r = r - 1\n",
    "                    l = l+1\n",
    "                    r = r-1\n",
    "            return\n",
    "         \n",
    "       "
   ]
  },
  {
   "cell_type": "code",
   "execution_count": 8,
   "metadata": {},
   "outputs": [],
   "source": [
    "nums=[-4,2,-1,1,-1,0]\n",
    "     "
   ]
  },
  {
   "cell_type": "code",
   "execution_count": 9,
   "metadata": {},
   "outputs": [
    {
     "ename": "NameError",
     "evalue": "name 'res' is not defined",
     "output_type": "error",
     "traceback": [
      "\u001b[1;31m---------------------------------------------------------------------------\u001b[0m",
      "\u001b[1;31mNameError\u001b[0m                                 Traceback (most recent call last)",
      "Cell \u001b[1;32mIn [9], line 1\u001b[0m\n\u001b[1;32m----> 1\u001b[0m \u001b[39mprint\u001b[39m(res)\n",
      "\u001b[1;31mNameError\u001b[0m: name 'res' is not defined"
     ]
    }
   ],
   "source": [
    "print(res)"
   ]
  }
 ],
 "metadata": {
  "kernelspec": {
   "display_name": "Python 3.9.13 64-bit (microsoft store)",
   "language": "python",
   "name": "python3"
  },
  "language_info": {
   "codemirror_mode": {
    "name": "ipython",
    "version": 3
   },
   "file_extension": ".py",
   "mimetype": "text/x-python",
   "name": "python",
   "nbconvert_exporter": "python",
   "pygments_lexer": "ipython3",
   "version": "3.9.13"
  },
  "orig_nbformat": 4,
  "vscode": {
   "interpreter": {
    "hash": "07c3a98431b513a05678a4f58a817834c9b5da7a769e43c202a273289ce50c45"
   }
  }
 },
 "nbformat": 4,
 "nbformat_minor": 2
}
