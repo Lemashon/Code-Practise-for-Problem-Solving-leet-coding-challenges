{
 "cells": [
  {
   "cell_type": "code",
   "execution_count": 30,
   "metadata": {},
   "outputs": [],
   "source": [
    "class Solution:\n",
    "    def lengthOfSubstring(self, s: str) -> int:\n",
    "        s = ('aaabbaccccff')\n",
    "        if len(s) == 0:\n",
    "            return 0\n",
    "        map = {} #map - name of dictionary\n",
    "        max_length = start = 0\n",
    "        \n",
    "        for i in range(len(s)):\n",
    "            if s[i] in map and start <= map[s[i]]:\n",
    "                start = map[s[i]] + 1\n",
    "            else:\n",
    "                max_length = max(max_length, i - start + 1)\n",
    "                map[s[i]] = i\n",
    "                \n",
    "        print(\"max_length: \", max_length)\n",
    "        "
   ]
  },
  {
   "cell_type": "markdown",
   "metadata": {},
   "source": [
    "s = ('aaabbaccccff')"
   ]
  },
  {
   "cell_type": "code",
   "execution_count": null,
   "metadata": {},
   "outputs": [],
   "source": []
  }
 ],
 "metadata": {
  "kernelspec": {
   "display_name": "Python 3.9.13 64-bit (microsoft store)",
   "language": "python",
   "name": "python3"
  },
  "language_info": {
   "codemirror_mode": {
    "name": "ipython",
    "version": 3
   },
   "file_extension": ".py",
   "mimetype": "text/x-python",
   "name": "python",
   "nbconvert_exporter": "python",
   "pygments_lexer": "ipython3",
   "version": "3.9.13"
  },
  "orig_nbformat": 4,
  "vscode": {
   "interpreter": {
    "hash": "07c3a98431b513a05678a4f58a817834c9b5da7a769e43c202a273289ce50c45"
   }
  }
 },
 "nbformat": 4,
 "nbformat_minor": 2
}
